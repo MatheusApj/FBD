{
 "cells": [
  {
   "cell_type": "markdown",
   "metadata": {},
   "source": [
    "pip install psycopg2"
   ]
  },
  {
   "cell_type": "code",
   "execution_count": 24,
   "metadata": {},
   "outputs": [
    {
     "name": "stdout",
     "output_type": "stream",
     "text": [
      "Banco conectado! Versão: PostgreSQL 12.22, compiled by Visual C++ build 1942, 64-bit\n"
     ]
    }
   ],
   "source": [
    "\n",
    "\n",
    "import psycopg2\n",
    "\n",
    "# Configuracao do banco\n",
    "DB_CONFIG = {\n",
    "    \"dbname\": \"postgres\",\n",
    "    \"user\": \"postgres\",\n",
    "    \"password\": \"180108\",\n",
    "    \"host\": \"localhost\",  \n",
    "    \"port\": \"5433\"        \n",
    "}\n",
    "\n",
    "try:\n",
    "    # Conectar ao banco\n",
    "    conn = psycopg2.connect(**DB_CONFIG)\n",
    "    cursor = conn.cursor()\n",
    "\n",
    "    # Executar uma consulta\n",
    "    cursor.execute(\"SELECT version();\")\n",
    "    db_version = cursor.fetchone()\n",
    "    print(f\"Banco conectado! Versão: {db_version[0]}\")\n",
    "except Exception as e:\n",
    "    print(f\"Erro ao conectar ao banco: {e}\")"
   ]
  },
  {
   "cell_type": "code",
   "execution_count": 25,
   "metadata": {},
   "outputs": [
    {
     "name": "stdout",
     "output_type": "stream",
     "text": [
      "(2, 1, 2, datetime.datetime(2025, 2, 4, 9, 0, 5), 'Sua sessão foi agendada para 05/02 às 10h. Lembre-se de acessar o link no horário marcado.', True, True)\n",
      "(3, 2, 3, datetime.datetime(2025, 2, 5, 10, 30), 'Sua sessão foi agendada para 06/02 às 14h. Lembre-se de acessar o link no horário marcado.', True, True)\n",
      "(4, 2, 5, datetime.datetime(2025, 2, 5, 10, 30, 5), 'Sua sessão foi agendada para 06/02 às 14h. Lembre-se de acessar o link no horário marcado.', True, True)\n",
      "(5, 3, 4, datetime.datetime(2025, 2, 6, 8, 0), 'Sua sessão foi agendada para 07/02 às 09h30. Lembre-se de acessar o link no horário marcado.', True, True)\n",
      "(6, 3, 7, datetime.datetime(2025, 2, 6, 8, 0, 5), 'Sua sessão foi agendada para 07/02 às 09h30. Lembre-se de acessar o link no horário marcado.', True, True)\n",
      "(7, 4, 6, datetime.datetime(2025, 2, 7, 12, 0), 'Infelizmente, sua sessão marcada para 08/02 às 16h foi cancelada. Caso necessário, reagende pelo sistema.', True, True)\n",
      "(8, 4, 9, datetime.datetime(2025, 2, 7, 12, 0, 5), 'Infelizmente, sua sessão marcada para 08/02 às 16h foi cancelada. Caso necessário, reagende pelo sistema.', True, True)\n",
      "(9, 5, 8, datetime.datetime(2025, 2, 8, 15, 0), 'Sua sessão foi agendada para 09/02 às 11h. Lembre-se de acessar o link no horário marcado.', True, True)\n",
      "(10, 5, 11, datetime.datetime(2025, 2, 8, 15, 0, 5), 'Sua sessão foi agendada para 09/02 às 11h. Lembre-se de acessar o link no horário marcado.', True, True)\n",
      "(11, 6, 10, datetime.datetime(2025, 2, 9, 17, 30), 'Sua sessão realizada em 10/02 às 15h foi concluída com sucesso. Caso queira, você pode deixar um feedback.', True, True)\n",
      "(12, 6, 13, datetime.datetime(2025, 2, 9, 17, 30, 5), 'Sua sessão realizada em 10/02 às 15h foi concluída com sucesso. Caso queira, você pode deixar um feedback.', True, True)\n",
      "(13, 7, 12, datetime.datetime(2025, 2, 10, 10, 0), 'Sua sessão foi agendada para 11/02 às 13h. Lembre-se de acessar o link no horário marcado.', True, True)\n",
      "(14, 7, 15, datetime.datetime(2025, 2, 10, 10, 0, 5), 'Sua sessão foi agendada para 11/02 às 13h. Lembre-se de acessar o link no horário marcado.', True, True)\n",
      "(15, 8, 14, datetime.datetime(2025, 2, 11, 16, 30), 'Sua sessão realizada em 12/02 às 17h foi concluída com sucesso. Caso queira, você pode deixar um feedback.', True, True)\n",
      "(16, 8, 16, datetime.datetime(2025, 2, 11, 16, 30, 5), 'Sua sessão realizada em 12/02 às 17h foi concluída com sucesso. Caso queira, você pode deixar um feedback.', True, True)\n",
      "(17, 9, 17, datetime.datetime(2025, 2, 12, 7, 0), 'Infelizmente, sua sessão marcada para 13/02 às 08h foi cancelada. Caso necessário, reagende pelo sistema.', True, True)\n",
      "(18, 9, 18, datetime.datetime(2025, 2, 12, 7, 0, 5), 'Infelizmente, sua sessão marcada para 13/02 às 08h foi cancelada. Caso necessário, reagende pelo sistema.', True, True)\n",
      "(19, 10, 19, datetime.datetime(2025, 2, 13, 9, 30), 'Sua sessão realizada em 14/02 às 10h30 foi concluída com sucesso. Caso queira, você pode deixar um feedback.', True, True)\n",
      "(20, 10, 20, datetime.datetime(2025, 2, 13, 9, 30, 5), 'Sua sessão realizada em 14/02 às 10h30 foi concluída com sucesso. Caso queira, você pode deixar um feedback.', True, True)\n",
      "(22, 1, 1, datetime.datetime(2025, 2, 26, 10, 0), 'Teste de notificação', True, True)\n",
      "(23, 1, 1, datetime.datetime(2025, 2, 26, 10, 0), 'Notificação atualizada', False, True)\n",
      "(25, 1, 1, datetime.datetime(2025, 2, 26, 10, 0), 'Teste de notificação', True, True)\n",
      "(26, 1, 1, datetime.datetime(2025, 2, 26, 10, 0), 'Teste de notificação', True, True)\n"
     ]
    }
   ],
   "source": [
    "#Find ALL\n",
    "cursor.execute(\"SELECT * FROM notificacao;\")\n",
    "resultados = cursor.fetchall()\n",
    "for row in resultados:\n",
    "    print(row)"
   ]
  },
  {
   "cell_type": "code",
   "execution_count": null,
   "metadata": {},
   "outputs": [
    {
     "name": "stdout",
     "output_type": "stream",
     "text": [
      "Banco conectado! Versão: PostgreSQL 12.22, compiled by Visual C++ build 1942, 64-bit\n"
     ]
    }
   ],
   "source": [
    "\n",
    "\n",
    "import psycopg2\n",
    "\n",
    "DB_CONFIG = {\n",
    "    \"dbname\": \"postgres\",\n",
    "    \"user\": \"postgres\",\n",
    "    \"password\": \"180108\",\n",
    "    \"host\": \"localhost\",  \n",
    "    \"port\": \"5433\"        \n",
    "}\n",
    "\n",
    "try:\n",
    "    conn = psycopg2.connect(**DB_CONFIG)\n",
    "    cursor = conn.cursor()\n",
    "\n",
    "    cursor.execute(\"SELECT version();\")\n",
    "    db_version = cursor.fetchone()\n",
    "    print(f\"Banco conectado! Versão: {db_version[0]}\")\n",
    "except Exception as e:\n",
    "    print(f\"Erro ao conectar ao banco: {e}\")"
   ]
  },
  {
   "cell_type": "code",
   "execution_count": 26,
   "metadata": {},
   "outputs": [
    {
     "name": "stdout",
     "output_type": "stream",
     "text": [
      "Nova notificação criada com ID: 27\n"
     ]
    }
   ],
   "source": [
    "import psycopg2\n",
    "\n",
    "DB_CONFIG = {\n",
    "    \"dbname\": \"postgres\",\n",
    "    \"user\": \"postgres\",\n",
    "    \"password\": \"180108\",\n",
    "    \"host\": \"localhost\",\n",
    "    \"port\": \"5433\"\n",
    "}\n",
    "\n",
    "def create_notificacao(id_sessao, id_usuario, data_hora, descricao, push=True, email=True):\n",
    "    try:\n",
    "        conn = psycopg2.connect(**DB_CONFIG)  \n",
    "        cursor = conn.cursor()\n",
    "        query = \"\"\"\n",
    "        INSERT INTO notificacao (id_sessao, id_usuario, data_hora, descricao, push, email)\n",
    "        VALUES (%s, %s, %s, %s, %s, %s) RETURNING id_notificacao;\n",
    "        \"\"\"\n",
    "        cursor.execute(query, (id_sessao, id_usuario, data_hora, descricao, push, email))\n",
    "        id_notificacao = cursor.fetchone()[0]\n",
    "        conn.commit()\n",
    "        cursor.close()\n",
    "        conn.close()\n",
    "        return id_notificacao\n",
    "    except Exception as e:\n",
    "        print(f\"Erro ao criar notificação: {e}\")\n",
    "        return None\n",
    "\n",
    "if __name__ == \"__main__\":\n",
    "    nova_id = create_notificacao(1, 1, \"2025-02-26 10:00:00\", \"Teste de notificação\")\n",
    "    if nova_id:\n",
    "        print(f\"Nova notificação criada com ID: {nova_id}\")\n",
    "    else:\n",
    "        print(\"Falha ao criar notificação.\")\n"
   ]
  },
  {
   "cell_type": "code",
   "execution_count": 22,
   "metadata": {},
   "outputs": [
    {
     "name": "stdout",
     "output_type": "stream",
     "text": [
      "Notificação 1 atualizada com sucesso.\n"
     ]
    }
   ],
   "source": [
    "import psycopg2\n",
    "\n",
    "DB_CONFIG = {\n",
    "    \"dbname\": \"postgres\",\n",
    "    \"user\": \"postgres\",\n",
    "    \"password\": \"180108\",\n",
    "    \"host\": \"localhost\",\n",
    "    \"port\": \"5433\"\n",
    "}\n",
    "\n",
    "def connect():\n",
    "    return psycopg2.connect(**DB_CONFIG)\n",
    "\n",
    "def update_notificacao(id_notificacao, descricao=None, push=None, email=None):\n",
    "    try:\n",
    "        conn = connect()\n",
    "        cursor = conn.cursor()\n",
    "        query = \"UPDATE notificacao SET \"\n",
    "        updates = []\n",
    "        values = []\n",
    "        \n",
    "        if descricao is not None:\n",
    "            updates.append(\"descricao = %s\")\n",
    "            values.append(descricao)\n",
    "        if push is not None:\n",
    "            updates.append(\"push = %s\")\n",
    "            values.append(push)\n",
    "        if email is not None:\n",
    "            updates.append(\"email = %s\")\n",
    "            values.append(email)\n",
    "        \n",
    "        if updates:\n",
    "            query += \", \".join(updates) + \" WHERE id_notificacao = %s;\"\n",
    "            values.append(id_notificacao)\n",
    "            cursor.execute(query, values)\n",
    "            conn.commit()\n",
    "        \n",
    "        cursor.close()\n",
    "        conn.close()\n",
    "        print(f\"Notificação {id_notificacao} atualizada com sucesso.\")\n",
    "    except Exception as e:\n",
    "        print(f\"Erro ao atualizar notificação: {e}\")\n",
    "\n",
    "if __name__ == \"__main__\":\n",
    "    nova_id = 1  \n",
    "    \n",
    "    if nova_id:\n",
    "        update_notificacao(nova_id, descricao=\"Notificação atualizada agora\", push=False)\n"
   ]
  },
  {
   "cell_type": "code",
   "execution_count": 28,
   "metadata": {},
   "outputs": [
    {
     "name": "stdout",
     "output_type": "stream",
     "text": [
      "Notificação 27 deletada.\n"
     ]
    }
   ],
   "source": [
    "#delete\n",
    "def delete_notificacao(id_notificacao):\n",
    "    try:\n",
    "        conn = connect()\n",
    "        cursor = conn.cursor()\n",
    "        cursor.execute(\"DELETE FROM notificacao WHERE id_notificacao = %s;\", (id_notificacao,))\n",
    "        conn.commit()\n",
    "        cursor.close()\n",
    "        conn.close()\n",
    "    except Exception as e:\n",
    "        print(f\"Erro ao deletar notificação: {e}\")\n",
    "if __name__ == \"__main__\":\n",
    "\n",
    "    delete_notificacao(nova_id)\n",
    "    print(f\"Notificação {nova_id} deletada.\")"
   ]
  },
  {
   "cell_type": "code",
   "execution_count": 27,
   "metadata": {},
   "outputs": [
    {
     "name": "stdout",
     "output_type": "stream",
     "text": [
      "Resultado da busca: (27, 1, 1, datetime.datetime(2025, 2, 26, 10, 0), 'Teste de notificação', True, True)\n"
     ]
    }
   ],
   "source": [
    "#Find by iD\n",
    "\n",
    "def read_notificacao_by_id(id_notificacao):\n",
    "    try:\n",
    "        conn = connect()\n",
    "        cursor = conn.cursor()\n",
    "        cursor.execute(\"SELECT * FROM notificacao WHERE id_notificacao = %s;\", (id_notificacao,))\n",
    "        row = cursor.fetchone()\n",
    "        cursor.close()\n",
    "        conn.close()\n",
    "        return row if row else \"Nenhuma notificação encontrada com esse ID.\"\n",
    "    except Exception as e:\n",
    "        print(f\"Erro ao buscar notificação: {e}\")\n",
    "        return None\n",
    "if __name__ == \"__main__\":\n",
    "    resultado = read_notificacao_by_id(nova_id)\n",
    "    print(\"Resultado da busca:\", resultado)"
   ]
  },
  {
   "cell_type": "code",
   "execution_count": null,
   "metadata": {},
   "outputs": [],
   "source": []
  }
 ],
 "metadata": {
  "kernelspec": {
   "display_name": ".venv",
   "language": "python",
   "name": "python3"
  },
  "language_info": {
   "codemirror_mode": {
    "name": "ipython",
    "version": 3
   },
   "file_extension": ".py",
   "mimetype": "text/x-python",
   "name": "python",
   "nbconvert_exporter": "python",
   "pygments_lexer": "ipython3",
   "version": "3.11.11"
  }
 },
 "nbformat": 4,
 "nbformat_minor": 2
}
